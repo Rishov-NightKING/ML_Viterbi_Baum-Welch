{
 "cells": [
  {
   "cell_type": "markdown",
   "source": [
    "# Taking input"
   ],
   "metadata": {
    "collapsed": false
   }
  },
  {
   "cell_type": "code",
   "execution_count": 51,
   "outputs": [],
   "source": [
    "import math\n",
    "import sys\n",
    "import numpy as np"
   ],
   "metadata": {
    "collapsed": false,
    "pycharm": {
     "name": "#%%\n"
    }
   }
  },
  {
   "cell_type": "code",
   "execution_count": 30,
   "outputs": [],
   "source": [
    "# global variables\n",
    "LOWEST_FLOAT = sys.float_info.max * (-1)"
   ],
   "metadata": {
    "collapsed": false,
    "pycharm": {
     "name": "#%%\n"
    }
   }
  },
  {
   "cell_type": "code",
   "execution_count": 31,
   "metadata": {
    "collapsed": true
   },
   "outputs": [],
   "source": [
    "def emission_calculate(x, mean, standard_deviation):\n",
    "    # probability density function (The normal distribution (also called Gaussian distribution))\n",
    "    return (1/(np.sqrt(2 * math.pi) * standard_deviation)) * np.exp(-np.square(x - mean)/(2 * np.square(standard_deviation)))"
   ]
  },
  {
   "cell_type": "code",
   "execution_count": 32,
   "outputs": [],
   "source": [
    "def take_input_data(file_name):\n",
    "    data = np.loadtxt(file_name, dtype=float)\n",
    "    #print(data)\n",
    "    return data"
   ],
   "metadata": {
    "collapsed": false,
    "pycharm": {
     "name": "#%%\n"
    }
   }
  },
  {
   "cell_type": "code",
   "execution_count": 33,
   "outputs": [],
   "source": [
    "def take_input_parameters(file_name):\n",
    "    with open(file_name, 'r') as f:\n",
    "        lines = f.readlines()\n",
    "\n",
    "    lines = [line.split() for line in lines]\n",
    "    states = int(lines[0][0])\n",
    "\n",
    "    trans_matrix = np.array([[float(lines[row + 1][col]) for col in range(states)] for row in range(states)])\n",
    "    means_arr = np.array([float(lines[states + 1][i]) for i in range(states)])\n",
    "    stds_arr = np.array([np.sqrt(float(lines[states + 2][i])) for i in range(states)])\n",
    "\n",
    "    return trans_matrix, means_arr, stds_arr"
   ],
   "metadata": {
    "collapsed": false,
    "pycharm": {
     "name": "#%%\n"
    }
   }
  },
  {
   "cell_type": "code",
   "execution_count": 34,
   "outputs": [],
   "source": [
    "def stationary_probability_calculation(trans_matrix):\n",
    "    coefficient_mat = np.transpose(trans_matrix)\n",
    "    total_equations = np.shape(trans_matrix)[0]\n",
    "\n",
    "    for i in range(total_equations):\n",
    "        coefficient_mat[i][i] -= 1\n",
    "\n",
    "    coefficient_mat[total_equations-1] = np.ones(total_equations)\n",
    "    dependant_variables = np.zeros(total_equations)\n",
    "    dependant_variables[total_equations-1] = 1\n",
    "\n",
    "    solutions = np.linalg.solve(coefficient_mat, dependant_variables)\n",
    "\n",
    "    return solutions"
   ],
   "metadata": {
    "collapsed": false,
    "pycharm": {
     "name": "#%%\n"
    }
   }
  },
  {
   "cell_type": "code",
   "execution_count": 35,
   "outputs": [],
   "source": [
    "def output_to_file(filename, row, col, matrix):\n",
    "    with open(filename, \"w\") as file:\n",
    "        for i in range(col):\n",
    "            for j in range(row):\n",
    "                file.write(str(matrix[j][i])+\"\\t\")\n",
    "            file.write(\"\\n\")"
   ],
   "metadata": {
    "collapsed": false,
    "pycharm": {
     "name": "#%%\n"
    }
   }
  },
  {
   "cell_type": "markdown",
   "source": [
    "# Viterbi Implementation"
   ],
   "metadata": {
    "collapsed": false
   }
  },
  {
   "cell_type": "code",
   "execution_count": 36,
   "outputs": [],
   "source": [
    "def viterbi(observations, transition_matrix, means, stds, state_names_array):\n",
    "    # initial probability calculation\n",
    "    sol = stationary_probability_calculation(trans_matrix=transition_matrix.copy())\n",
    "\n",
    "    # emission calculation\n",
    "    emission_matrix = np.zeros(shape=(hidden_states, total_observations), dtype=float)\n",
    "    for i in range(hidden_states):\n",
    "        for j in range(total_observations):\n",
    "            emission_matrix[i][j] = emission_calculate(x=observations[j], mean=means[i], standard_deviation=stds[i])\n",
    "\n",
    "    viterbi_mat = np.zeros(shape=(hidden_states, total_observations), dtype=float)\n",
    "    parents = np.zeros(shape=(hidden_states, total_observations), dtype=int)\n",
    "\n",
    "    for i in range(hidden_states):\n",
    "        viterbi_mat[i][0] = np.log(sol[i] * emission_matrix[i][0])\n",
    "        parents[i][0] = -1\n",
    "\n",
    "\n",
    "    for i in range(1, total_observations):\n",
    "        for j in range(hidden_states):\n",
    "            temp_max = LOWEST_FLOAT\n",
    "            temp_parent = -1\n",
    "            for k in range(hidden_states):\n",
    "                temp = viterbi_mat[k][i-1] + np.log(transition_matrix[k][j] * emission_matrix[j][i])\n",
    "                if temp > temp_max:\n",
    "                    temp_max = temp\n",
    "                    temp_parent = k\n",
    "            viterbi_mat[j][i] = temp_max\n",
    "            parents[j][i] = temp_parent\n",
    "\n",
    "    # print(viterbi_mat)\n",
    "    # hidden path backtracking\n",
    "\n",
    "    last_hidden_state = -1\n",
    "    temp_last_max = LOWEST_FLOAT\n",
    "\n",
    "    for i in range(hidden_states):\n",
    "        if viterbi_mat[i][total_observations-1] > temp_last_max:\n",
    "            temp_last_max = viterbi_mat[i][total_observations-1]\n",
    "            last_hidden_state = i\n",
    "\n",
    "    hidden_path = [last_hidden_state]\n",
    "    index = total_observations - 1\n",
    "    parent_index = last_hidden_state\n",
    "\n",
    "    # print(parents[parent_index][index])\n",
    "    while parents[parent_index][index] != -1:\n",
    "        parent_index = parents[parent_index][index]\n",
    "        index -= 1\n",
    "        hidden_path.append(parent_index)\n",
    "\n",
    "    hidden_path.reverse()\n",
    "\n",
    "\n",
    "\n",
    "    with open(\"Output/viterbi_output.txt\", \"w\") as viterbi_output_file:\n",
    "        for i in hidden_path:\n",
    "            viterbi_output_file.write(\"\\\"\"+state_names_array[i]+\"\\\"\\n\")\n",
    "\n",
    "    # with open(\"Output/viterbi_prob.txt\", \"w\") as viterbi_output_file2:\n",
    "    #     for i in range(total_observations):\n",
    "    #         for j in range(hidden_states):\n",
    "    #             viterbi_output_file2.write(str(viterbi_mat[j][i])+\"\\t\")\n",
    "    #         viterbi_output_file2.write(\"\\n\")\n",
    "    output_to_file(filename=\"Output/viterbi_prob.txt\", row=hidden_states, col=total_observations, matrix=viterbi_mat)\n",
    "\n",
    "    # with open(\"Output/emission.txt\", \"w\") as viterbi_output_file3:\n",
    "    #     for i in range(total_observations):\n",
    "    #         for j in range(hidden_states):\n",
    "    #             viterbi_output_file3.write(str(emission_matrix[j][i])+\"\\t\")\n",
    "    #         viterbi_output_file3.write(\"\\n\")\n",
    "    output_to_file(filename=\"Output/emission.txt\", row=hidden_states, col=total_observations, matrix=emission_matrix)\n"
   ],
   "metadata": {
    "collapsed": false,
    "pycharm": {
     "name": "#%%\n"
    }
   }
  },
  {
   "cell_type": "markdown",
   "source": [
    "## take inputs"
   ],
   "metadata": {
    "collapsed": false
   }
  },
  {
   "cell_type": "code",
   "execution_count": 37,
   "outputs": [],
   "source": [
    "data_file_name = 'Input/data.txt'\n",
    "parameter_file_name = 'Input/parameters.txt'\n",
    "obs_ara = take_input_data(file_name=data_file_name)\n",
    "transition_mat, means_array, stds_array = take_input_parameters(file_name=parameter_file_name)\n",
    "state_names = [\"El Nino\", \"La Nina\"]\n",
    "total_observations = obs_ara.size\n",
    "hidden_states = np.shape(transition_mat)[0] # like alpha, beta, gamma\n"
   ],
   "metadata": {
    "collapsed": false,
    "pycharm": {
     "name": "#%%\n"
    }
   }
  },
  {
   "cell_type": "code",
   "execution_count": 38,
   "outputs": [],
   "source": [
    "viterbi(observations=obs_ara, transition_matrix=transition_mat, means=means_array, stds=stds_array, state_names_array=state_names)"
   ],
   "metadata": {
    "collapsed": false,
    "pycharm": {
     "name": "#%%\n"
    }
   }
  },
  {
   "cell_type": "markdown",
   "source": [
    "# Baum Welch Implementation"
   ],
   "metadata": {
    "collapsed": false
   }
  },
  {
   "cell_type": "markdown",
   "source": [
    "### forward calc"
   ],
   "metadata": {
    "collapsed": false
   }
  },
  {
   "cell_type": "code",
   "execution_count": 39,
   "outputs": [],
   "source": [
    "def forward(observations, transition_matrix, means, stds):\n",
    "    # initial probability calculation\n",
    "    sol = stationary_probability_calculation(trans_matrix=transition_matrix.copy())\n",
    "\n",
    "    # emission calculation\n",
    "    emission_matrix = np.zeros(shape=(hidden_states, total_observations), dtype=float)\n",
    "    for i in range(hidden_states):\n",
    "        for j in range(total_observations):\n",
    "            emission_matrix[i][j] = emission_calculate(x=observations[j], mean=means[i], standard_deviation=stds[i])\n",
    "\n",
    "    forward_mat = np.zeros(shape=(hidden_states, total_observations), dtype=float)\n",
    "\n",
    "\n",
    "    for i in range(hidden_states):\n",
    "        forward_mat[i][0] = sol[i] * emission_matrix[i][0]\n",
    "\n",
    "    for i in range(1, total_observations):\n",
    "        temp_sum = np.sum(forward_mat[:, i-1])\n",
    "        # print(\"sum: \", temp_sum)\n",
    "        # print(\"before: \", forward_mat[:, i-1])\n",
    "        # normalize previous probabilities\n",
    "        for k in range(hidden_states):\n",
    "            forward_mat[k][i-1] = forward_mat[k][i-1]/ temp_sum\n",
    "        # print(\"afterL: \",forward_mat[:, i-1])\n",
    "        # print(\"sum after: \", np.sum(forward_mat[:, i-1]))\n",
    "        for j in range(hidden_states):\n",
    "            for k in range(hidden_states):\n",
    "                forward_mat[j][i] += forward_mat[k][i-1] * transition_matrix[k][j] * emission_matrix[j][i]\n",
    "\n",
    "    # last column normalize\n",
    "    temp_sum = np.sum(forward_mat[:, total_observations-1])\n",
    "    for k in range(hidden_states):\n",
    "        forward_mat[k][total_observations-1] = forward_mat[k][total_observations-1]/ temp_sum\n",
    "\n",
    "    fsink = np.sum(forward_mat[:, total_observations-1])\n",
    "    # print(fsink)\n",
    "    output_to_file(filename=\"Output/forward_matrix.txt\", row=hidden_states, col=total_observations, matrix=forward_mat)\n",
    "\n",
    "    return forward_mat"
   ],
   "metadata": {
    "collapsed": false,
    "pycharm": {
     "name": "#%%\n"
    }
   }
  },
  {
   "cell_type": "markdown",
   "source": [],
   "metadata": {
    "collapsed": false,
    "pycharm": {
     "name": "#%% md\n"
    }
   }
  },
  {
   "cell_type": "code",
   "execution_count": 40,
   "outputs": [],
   "source": [
    "def backward(observations, transition_matrix, means, stds):\n",
    "    # emission calculation\n",
    "    emission_matrix = np.zeros(shape=(hidden_states, total_observations), dtype=float)\n",
    "    for i in range(hidden_states):\n",
    "        for j in range(total_observations):\n",
    "            emission_matrix[i][j] = emission_calculate(x=observations[j], mean=means[i], standard_deviation=stds[i])\n",
    "\n",
    "    backward_mat = np.zeros(shape=(hidden_states, total_observations), dtype=float)\n",
    "\n",
    "\n",
    "    # print(\"trans: \", transition_matrix)\n",
    "    # print(\"mean: \", means)\n",
    "    # print(\"std : \", stds)\n",
    "    for i in range(hidden_states):\n",
    "        backward_mat[i][total_observations-1] = 1.0\n",
    "\n",
    "    # print(backward_mat[:, total_observations-1])\n",
    "    for i in range(total_observations-2, -1, -1):\n",
    "        temp_sum = np.sum(backward_mat[:, i+1])\n",
    "        # print(f'i: {i} sum: {temp_sum}')\n",
    "        # print(\"before: \", backward_mat[:, i+1])\n",
    "        # normalize previous probabilities\n",
    "        for k in range(hidden_states):\n",
    "            backward_mat[k][i+1] = backward_mat[k][i+1]/ temp_sum\n",
    "        # print(\"afterL: \",backward_mat[:, i+1])\n",
    "        # print(\"sum after: \", np.sum(backward_mat[:, i+1]))\n",
    "        for j in range(hidden_states):\n",
    "            for k in range(hidden_states):\n",
    "                backward_mat[j][i] += backward_mat[k][i+1] * transition_matrix[j][k] * emission_matrix[k][i+1]\n",
    "\n",
    "    # first column normalize\n",
    "    temp_sum = np.sum(backward_mat[:, 0])\n",
    "    for k in range(hidden_states):\n",
    "        backward_mat[k][0] = backward_mat[k][0]/ temp_sum\n",
    "\n",
    "    fsink = np.sum(backward_mat[:, 0])\n",
    "    # print(fsink)\n",
    "    output_to_file(filename=\"Output/backward_matrix.txt\", row=hidden_states, col=total_observations, matrix=backward_mat)\n",
    "    return backward_mat"
   ],
   "metadata": {
    "collapsed": false,
    "pycharm": {
     "name": "#%%\n"
    }
   }
  },
  {
   "cell_type": "markdown",
   "source": [
    "## pi star and pi double star calculation"
   ],
   "metadata": {
    "collapsed": false
   }
  },
  {
   "cell_type": "code",
   "execution_count": 65,
   "outputs": [],
   "source": [
    "f = forward(observations=obs_ara, transition_matrix=transition_mat, means=means_array, stds=stds_array)\n",
    "b = backward(observations=obs_ara, transition_matrix=transition_mat, means=means_array, stds=stds_array)\n",
    "\n",
    "# pi star calculation\n",
    "pi_star = f * b\n",
    "\n",
    "# normalize\n",
    "for i in range(total_observations):\n",
    "    temp_sum = np.sum(pi_star[:, i])\n",
    "    for j in range(hidden_states):\n",
    "        pi_star[j][i] = pi_star[j][i] / temp_sum\n",
    "\n",
    "output_to_file(filename=\"Output/pi_star.txt\", row=hidden_states, col=total_observations, matrix=pi_star)\n",
    "\n",
    "# pi double star calculation\n",
    "\n",
    "pi_double_star = np.zeros(shape=(hidden_states * hidden_states, total_observations -1), dtype=float)\n",
    "# emission calculation\n",
    "emission_matrix = np.zeros(shape=(hidden_states, total_observations), dtype=float)\n",
    "for i in range(hidden_states):\n",
    "    for j in range(total_observations):\n",
    "        emission_matrix[i][j] = emission_calculate(x=obs_ara[j], mean=means_array[i], standard_deviation=stds_array[i])\n",
    "\n",
    "index = -1\n",
    "for i in range(hidden_states):\n",
    "    for j in range(hidden_states):\n",
    "        index += 1 # row major way fill-up.....index = row\n",
    "        for k in range(total_observations-1):\n",
    "            pi_double_star[index][k] = f[i][k] * transition_mat[i][j] * emission_matrix[j][k+1] * b[j][k+1]\n",
    "\n",
    "# normalize\n",
    "for i in range(total_observations-1):\n",
    "    temp_sum = np.sum(pi_double_star[:, i])\n",
    "    for j in range(hidden_states * hidden_states):\n",
    "        pi_double_star[j][i] = pi_double_star[j][i] / temp_sum\n",
    "\n",
    "output_to_file(filename=\"Output/pi_double_star.txt\", row=hidden_states * hidden_states, col=total_observations-1, matrix=pi_double_star)"
   ],
   "metadata": {
    "collapsed": false,
    "pycharm": {
     "name": "#%%\n"
    }
   }
  },
  {
   "cell_type": "markdown",
   "source": [],
   "metadata": {
    "collapsed": false
   }
  },
  {
   "cell_type": "code",
   "execution_count": null,
   "outputs": [],
   "source": [],
   "metadata": {
    "collapsed": false,
    "pycharm": {
     "name": "#%%\n"
    }
   }
  }
 ],
 "metadata": {
  "kernelspec": {
   "display_name": "Python 3",
   "language": "python",
   "name": "python3"
  },
  "language_info": {
   "codemirror_mode": {
    "name": "ipython",
    "version": 2
   },
   "file_extension": ".py",
   "mimetype": "text/x-python",
   "name": "python",
   "nbconvert_exporter": "python",
   "pygments_lexer": "ipython2",
   "version": "2.7.6"
  }
 },
 "nbformat": 4,
 "nbformat_minor": 0
}